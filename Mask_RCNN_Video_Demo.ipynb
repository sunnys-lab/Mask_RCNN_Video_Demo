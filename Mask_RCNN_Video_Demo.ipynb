{
 "cells": [
  {
   "cell_type": "markdown",
   "metadata": {},
   "source": [
    "# Object Detection in Video Clip Demo\n",
    "Welcome to the object detection inference walkthrough!  This notebook will walk you step by step through the process of using a pre-trained model to detect objects in an image. Make sure to follow the [installation instructions](https://github.com/tensorflow/models/blob/master/research/object_detection/g3doc/installation.md) before you start."
   ]
  },
  {
   "cell_type": "markdown",
   "metadata": {},
   "source": [
    "# Imports"
   ]
  },
  {
   "cell_type": "code",
   "execution_count": 11,
   "metadata": {
    "scrolled": true
   },
   "outputs": [
    {
     "name": "stdout",
     "output_type": "stream",
     "text": [
      "\n"
     ]
    }
   ],
   "source": [
    "import numpy as np\n",
    "import os\n",
    "import six.moves.urllib as urllib\n",
    "import sys\n",
    "import tarfile\n",
    "import tensorflow as tf\n",
    "import zipfile\n",
    "\n",
    "from collections import defaultdict\n",
    "from io import StringIO\n",
    "from matplotlib import pyplot as plt\n",
    "from PIL import Image\n",
    "\n",
    "# This is needed since the notebook is stored in the object_detection folder.\n",
    "sys.path.append(\"..\")\n",
    "from object_detection.utils import ops as utils_ops\n",
    "\n",
    "from object_detection.utils import label_map_util\n",
    "from object_detection.utils import visualization_utils as vis_util"
   ]
  },
  {
   "cell_type": "markdown",
   "metadata": {},
   "source": [
    "# Model preparation "
   ]
  },
  {
   "cell_type": "markdown",
   "metadata": {},
   "source": [
    "## Variables\n",
    "\n",
    "Any model exported using the `export_inference_graph.py` tool can be loaded here simply by changing `PATH_TO_CKPT` to point to a new .pb file.  \n",
    "\n",
    "By default we use an \"SSD with Mobilenet\" model here. See the [detection model zoo](https://github.com/tensorflow/models/blob/master/research/object_detection/g3doc/detection_model_zoo.md) for a list of other models that can be run out-of-the-box with varying speeds and accuracies."
   ]
  },
  {
   "cell_type": "code",
   "execution_count": 13,
   "metadata": {},
   "outputs": [],
   "source": [
    "# Path to frozen detection graph. This is the actual model that is used for the object detection.\n",
    "PATH_TO_CKPT = 'mask_rcnn_inception_v2_coco_2018_01_28' + '/frozen_inference_graph.pb'",
    "\n",
    "# List of the strings that is used to add correct label for each box.\n",
    "PATH_TO_LABELS = os.path.join('data', 'mscoco_label_map.pbtxt')\n",
    "\n",
    "NUM_CLASSES = 90"
   ]
  },
  {
   "cell_type": "markdown",
   "metadata": {},
   "source": [
    "## Load a (frozen) Tensorflow model into memory."
   ]
  },
  {
   "cell_type": "code",
   "execution_count": 14,
   "metadata": {},
   "outputs": [],
   "source": [
    "detection_graph = tf.Graph()\n",
    "with detection_graph.as_default():\n",
    "  od_graph_def = tf.GraphDef()\n",
    "  with tf.gfile.GFile(PATH_TO_CKPT, 'rb') as fid:\n",
    "    serialized_graph = fid.read()\n",
    "    od_graph_def.ParseFromString(serialized_graph)\n",
    "    tf.import_graph_def(od_graph_def, name='')"
   ]
  },
  {
   "cell_type": "markdown",
   "metadata": {},
   "source": [
    "## Loading label map\n",
    "Label maps map indices to category names, so that when our convolution network predicts `5`, we know that this corresponds to `airplane`.  Here we use internal utility functions, but anything that returns a dictionary mapping integers to appropriate string labels would be fine"
   ]
  },
  {
   "cell_type": "code",
   "execution_count": 15,
   "metadata": {},
   "outputs": [],
   "source": [
    "label_map = label_map_util.load_labelmap(PATH_TO_LABELS)\n",
    "categories = label_map_util.convert_label_map_to_categories(label_map, max_num_classes=NUM_CLASSES, use_display_name=True)\n",
    "category_index = label_map_util.create_category_index(categories)"
   ]
  },
  {
   "cell_type": "markdown",
   "metadata": {},
   "source": [
    "## Helper code"
   ]
  },
  {
   "cell_type": "code",
   "execution_count": 16,
   "metadata": {},
   "outputs": [],
   "source": [
    "def load_image_into_numpy_array(image):\n",
    "  (im_width, im_height) = image.size\n",
    "  return np.array(image.getdata()).reshape(\n",
    "      (im_height, im_width, 3)).astype(np.uint8)"
   ]
  },
  {
   "cell_type": "markdown",
   "metadata": {},
   "source": [
    "# Detection"
   ]
  },
  {
   "cell_type": "code",
   "execution_count": 17,
   "metadata": {},
   "outputs": [],
   "source": [
    "# Import everything needed to edit/save/watch video clips\n",
    "from moviepy.editor import VideoFileClip\n",
    "from IPython.display import HTML"
   ]
  },
  {
   "cell_type": "code",
   "execution_count": 18,
   "metadata": {},
   "outputs": [],
   "source": [
    "def detect_videos(image_np, sess, detection_graph):\n",
    "    \n",
    "    with detection_graph.as_default():\n",
    "        \n",
    "        ops = tf.get_default_graph().get_operations()\n",
    "        all_tensor_names = {output.name for op in ops for output in op.outputs}\n",
    "        tensor_dict = {}\n",
    "        for key in [\n",
    "              'num_detections', 'detection_boxes', 'detection_scores',\n",
    "              'detection_classes', 'detection_masks'\n",
    "          ]:\n",
    "            tensor_name = key + ':0'\n",
    "            if tensor_name in all_tensor_names:\n",
    "                tensor_dict[key] = tf.get_default_graph().get_tensor_by_name(tensor_name)\n",
    "        if 'detection_masks' in tensor_dict:\n",
    "            # The following processing is only for single image\n",
    "            detection_boxes = tf.squeeze(tensor_dict['detection_boxes'], [0])\n",
    "            detection_masks = tf.squeeze(tensor_dict['detection_masks'], [0])\n",
    "            # Reframe is required to translate mask from box coordinates to image coordinates and fit the image size.\n",
    "            real_num_detection = tf.cast(tensor_dict['num_detections'][0], tf.int32)\n",
    "            detection_boxes = tf.slice(detection_boxes, [0, 0], [real_num_detection, -1])\n",
    "            detection_masks = tf.slice(detection_masks, [0, 0, 0], [real_num_detection, -1, -1])\n",
    "            detection_masks_reframed = utils_ops.reframe_box_masks_to_image_masks(\n",
    "                detection_masks, detection_boxes, image_np.shape[0], image_np.shape[1])\n",
    "            detection_masks_reframed = tf.cast(\n",
    "                tf.greater(detection_masks_reframed, 0.5), tf.uint8)\n",
    "            # Follow the convention by adding back the batch dimension\n",
    "            tensor_dict['detection_masks'] = tf.expand_dims(\n",
    "                detection_masks_reframed, 0)\n",
    "        image_tensor = tf.get_default_graph().get_tensor_by_name('image_tensor:0')\n",
    "\n",
    "      # Run inference\n",
    "        output_dict = sess.run(tensor_dict,\n",
    "                             feed_dict={image_tensor: np.expand_dims(image_np, 0)})\n",
    "\n",
    "      # all outputs are float32 numpy arrays, so convert types as appropriate\n",
    "        output_dict['num_detections'] = int(output_dict['num_detections'][0])\n",
    "        output_dict['detection_classes'] = output_dict[\n",
    "          'detection_classes'][0].astype(np.uint8)\n",
    "        output_dict['detection_boxes'] = output_dict['detection_boxes'][0]\n",
    "        output_dict['detection_scores'] = output_dict['detection_scores'][0]\n",
    "        if 'detection_masks' in output_dict:\n",
    "            output_dict['detection_masks'] = output_dict['detection_masks'][0]\n",
    "\n",
    "        vis_util.visualize_boxes_and_labels_on_image_array(\n",
    "          image_np,\n",
    "          output_dict['detection_boxes'],\n",
    "          output_dict['detection_classes'],\n",
    "          output_dict['detection_scores'],\n",
    "          category_index,\n",
    "          instance_masks=output_dict.get('detection_masks'),\n",
    "          use_normalized_coordinates=True,\n",
    "          line_thickness=1)\n",
    "                \n",
    "    return image_np"
   ]
  },
  {
   "cell_type": "code",
   "execution_count": 19,
   "metadata": {},
   "outputs": [],
   "source": [
    "def process_image(image):  \n",
    "    \n",
    "    global counter\n",
    "    \n",
    "    if counter%1 ==0:\n",
    "   \n",
    "        with detection_graph.as_default():\n",
    "            with tf.Session(graph=detection_graph) as sess:\n",
    "                image_np = detect_videos(image, sess, detection_graph) \n",
    "\n",
    "    counter +=1 \n",
    "    \n",
    "    return image"
   ]
  },
  {
   "cell_type": "code",
   "execution_count": 20,
   "metadata": {},
   "outputs": [
    {
     "name": "stdout",
     "output_type": "stream",
     "text": [
      "[MoviePy] >>>> Building video videos_out/cars_ppl_out.mp4\n",
      "[MoviePy] Writing video videos_out/cars_ppl_out.mp4\n"
     ]
    },
    {
     "name": "stderr",
     "output_type": "stream",
     "text": [
      "\n",
      "  0%|          | 0/192 [00:00<?, ?it/s]\u001b[A\n",
      "  1%|          | 1/192 [00:05<18:52,  5.93s/it]\u001b[A\n",
      "  1%|          | 2/192 [00:11<18:45,  5.93s/it]\u001b[A\n",
      "  2%|▏         | 3/192 [00:17<18:37,  5.91s/it]\u001b[A\n",
      "  2%|▏         | 4/192 [00:23<18:27,  5.89s/it]\u001b[A\n",
      "  3%|▎         | 5/192 [00:29<18:12,  5.84s/it]\u001b[A\n",
      "  3%|▎         | 6/192 [00:34<17:56,  5.79s/it]\u001b[A\n",
      "  4%|▎         | 7/192 [00:40<17:44,  5.76s/it]\u001b[A\n",
      "  4%|▍         | 8/192 [00:46<17:31,  5.72s/it]\u001b[A\n",
      "  5%|▍         | 9/192 [00:51<17:19,  5.68s/it]\u001b[A\n",
      "  5%|▌         | 10/192 [00:57<17:09,  5.66s/it]\u001b[A\n",
      "  6%|▌         | 11/192 [01:03<17:00,  5.64s/it]\u001b[A\n",
      "  6%|▋         | 12/192 [01:08<16:52,  5.62s/it]\u001b[A\n",
      "  7%|▋         | 13/192 [01:14<16:45,  5.62s/it]\u001b[A\n",
      "  7%|▋         | 14/192 [01:19<16:39,  5.62s/it]\u001b[A\n",
      "  8%|▊         | 15/192 [01:25<16:32,  5.61s/it]\u001b[A\n",
      "  8%|▊         | 16/192 [01:31<16:31,  5.64s/it]\u001b[A\n",
      "  9%|▉         | 17/192 [01:37<16:41,  5.72s/it]\u001b[A\n",
      "  9%|▉         | 18/192 [01:42<16:28,  5.68s/it]\u001b[A\n",
      " 10%|▉         | 19/192 [01:48<16:19,  5.66s/it]\u001b[A\n",
      " 10%|█         | 20/192 [01:53<16:12,  5.66s/it]\u001b[A\n",
      " 11%|█         | 21/192 [01:59<16:04,  5.64s/it]\u001b[A\n",
      " 11%|█▏        | 22/192 [02:05<15:56,  5.63s/it]\u001b[A\n",
      " 12%|█▏        | 23/192 [02:10<15:49,  5.62s/it]\u001b[A\n",
      " 12%|█▎        | 24/192 [02:16<15:45,  5.63s/it]\u001b[A\n",
      " 13%|█▎        | 25/192 [02:22<15:40,  5.63s/it]\u001b[A\n",
      " 14%|█▎        | 26/192 [02:27<15:35,  5.63s/it]\u001b[A\n",
      " 14%|█▍        | 27/192 [02:33<15:30,  5.64s/it]\u001b[A\n",
      " 15%|█▍        | 28/192 [02:38<15:24,  5.64s/it]\u001b[A\n",
      " 15%|█▌        | 29/192 [02:44<15:17,  5.63s/it]\u001b[A\n",
      " 16%|█▌        | 30/192 [02:50<15:11,  5.62s/it]\u001b[A\n",
      " 16%|█▌        | 31/192 [02:55<15:05,  5.62s/it]\u001b[A\n",
      " 17%|█▋        | 32/192 [03:01<14:57,  5.61s/it]\u001b[A\n",
      " 17%|█▋        | 33/192 [03:06<14:50,  5.60s/it]\u001b[A\n",
      " 18%|█▊        | 34/192 [03:12<14:44,  5.60s/it]\u001b[A\n",
      " 18%|█▊        | 35/192 [03:18<14:39,  5.60s/it]\u001b[A\n",
      " 19%|█▉        | 36/192 [03:23<14:34,  5.60s/it]\u001b[A\n",
      " 19%|█▉        | 37/192 [03:29<14:27,  5.60s/it]\u001b[A\n",
      " 20%|█▉        | 38/192 [03:34<14:22,  5.60s/it]\u001b[A\n",
      " 20%|██        | 39/192 [03:40<14:15,  5.59s/it]\u001b[A\n",
      " 21%|██        | 40/192 [03:46<14:24,  5.69s/it]\u001b[A\n",
      " 21%|██▏       | 41/192 [03:52<14:14,  5.66s/it]\u001b[A\n",
      " 22%|██▏       | 42/192 [03:57<14:07,  5.65s/it]\u001b[A\n",
      " 22%|██▏       | 43/192 [04:03<13:59,  5.63s/it]\u001b[A\n",
      " 23%|██▎       | 44/192 [04:08<13:53,  5.63s/it]\u001b[A\n",
      " 23%|██▎       | 45/192 [04:14<13:45,  5.62s/it]\u001b[A\n",
      " 24%|██▍       | 46/192 [04:20<13:38,  5.61s/it]\u001b[A\n",
      " 24%|██▍       | 47/192 [04:25<13:35,  5.63s/it]\u001b[A\n",
      " 25%|██▌       | 48/192 [04:31<13:30,  5.63s/it]\u001b[A\n",
      " 26%|██▌       | 49/192 [04:37<13:26,  5.64s/it]\u001b[A\n",
      " 26%|██▌       | 50/192 [04:42<13:19,  5.63s/it]\u001b[A\n",
      " 27%|██▋       | 51/192 [04:48<13:13,  5.63s/it]\u001b[A\n",
      " 27%|██▋       | 52/192 [04:53<13:07,  5.62s/it]\u001b[A\n",
      " 28%|██▊       | 53/192 [04:59<13:11,  5.69s/it]\u001b[A\n",
      " 28%|██▊       | 54/192 [05:05<13:04,  5.69s/it]\u001b[A\n",
      " 29%|██▊       | 55/192 [05:11<12:57,  5.67s/it]\u001b[A\n",
      " 29%|██▉       | 56/192 [05:16<12:50,  5.66s/it]\u001b[A\n",
      " 30%|██▉       | 57/192 [05:22<12:44,  5.66s/it]\u001b[A\n",
      " 30%|███       | 58/192 [05:27<12:37,  5.65s/it]\u001b[A\n",
      " 31%|███       | 59/192 [05:33<12:33,  5.66s/it]\u001b[A\n",
      " 31%|███▏      | 60/192 [05:39<12:29,  5.68s/it]\u001b[A\n",
      " 32%|███▏      | 61/192 [05:44<12:22,  5.67s/it]\u001b[A\n",
      " 32%|███▏      | 62/192 [05:50<12:19,  5.69s/it]\u001b[A\n",
      " 33%|███▎      | 63/192 [05:56<12:11,  5.67s/it]\u001b[A\n",
      " 33%|███▎      | 64/192 [06:02<12:15,  5.75s/it]\u001b[A\n",
      " 34%|███▍      | 65/192 [06:07<12:05,  5.71s/it]\u001b[A\n",
      " 34%|███▍      | 66/192 [06:13<11:59,  5.71s/it]\u001b[A\n",
      " 35%|███▍      | 67/192 [06:19<11:51,  5.69s/it]\u001b[A\n",
      " 35%|███▌      | 68/192 [06:24<11:43,  5.68s/it]\u001b[A\n",
      " 36%|███▌      | 69/192 [06:30<11:38,  5.68s/it]\u001b[A\n",
      " 36%|███▋      | 70/192 [06:36<11:32,  5.68s/it]\u001b[A\n",
      " 37%|███▋      | 71/192 [06:41<11:26,  5.67s/it]\u001b[A\n",
      " 38%|███▊      | 72/192 [06:47<11:19,  5.66s/it]\u001b[A\n",
      " 38%|███▊      | 73/192 [06:53<11:14,  5.67s/it]\u001b[A\n",
      " 39%|███▊      | 74/192 [06:59<11:17,  5.74s/it]\u001b[A\n",
      " 39%|███▉      | 75/192 [07:04<11:09,  5.72s/it]\u001b[A\n",
      " 40%|███▉      | 76/192 [07:10<11:03,  5.72s/it]\u001b[A\n",
      " 40%|████      | 77/192 [07:16<10:56,  5.70s/it]\u001b[A\n",
      " 41%|████      | 78/192 [07:21<10:49,  5.70s/it]\u001b[A\n",
      " 41%|████      | 79/192 [07:27<10:44,  5.70s/it]\u001b[A\n",
      " 42%|████▏     | 80/192 [07:33<10:38,  5.70s/it]\u001b[A\n",
      " 42%|████▏     | 81/192 [07:39<10:33,  5.71s/it]\u001b[A\n",
      " 43%|████▎     | 82/192 [07:44<10:26,  5.70s/it]\u001b[A\n",
      " 43%|████▎     | 83/192 [07:50<10:21,  5.70s/it]\u001b[A\n",
      " 44%|████▍     | 84/192 [07:56<10:22,  5.77s/it]\u001b[A\n",
      " 44%|████▍     | 85/192 [08:02<10:26,  5.85s/it]\u001b[A\n",
      " 45%|████▍     | 86/192 [08:08<10:15,  5.81s/it]\u001b[A\n",
      " 45%|████▌     | 87/192 [08:13<10:07,  5.78s/it]\u001b[A\n",
      " 46%|████▌     | 88/192 [08:19<09:59,  5.77s/it]\u001b[A\n",
      " 46%|████▋     | 89/192 [08:25<09:52,  5.75s/it]\u001b[A\n",
      " 47%|████▋     | 90/192 [08:30<09:45,  5.74s/it]\u001b[A\n",
      " 47%|████▋     | 91/192 [08:36<09:40,  5.74s/it]\u001b[A\n",
      " 48%|████▊     | 92/192 [08:42<09:35,  5.75s/it]\u001b[A\n",
      " 48%|████▊     | 93/192 [08:48<09:29,  5.75s/it]\u001b[A\n",
      " 49%|████▉     | 94/192 [08:54<09:24,  5.76s/it]\u001b[A\n",
      " 49%|████▉     | 95/192 [08:59<09:21,  5.78s/it]\u001b[A\n",
      " 50%|█████     | 96/192 [09:05<09:17,  5.80s/it]\u001b[A\n",
      " 51%|█████     | 97/192 [09:11<09:08,  5.77s/it]\u001b[A\n",
      " 51%|█████     | 98/192 [09:17<09:01,  5.76s/it]\u001b[A\n",
      " 52%|█████▏    | 99/192 [09:22<08:55,  5.76s/it]\u001b[A\n",
      " 52%|█████▏    | 100/192 [09:28<08:51,  5.78s/it]\u001b[A\n",
      " 53%|█████▎    | 101/192 [09:34<08:44,  5.76s/it]\u001b[A\n",
      " 53%|█████▎    | 102/192 [09:40<08:36,  5.74s/it]\u001b[A\n",
      " 54%|█████▎    | 103/192 [09:45<08:30,  5.73s/it]\u001b[A\n",
      " 54%|█████▍    | 104/192 [09:51<08:23,  5.73s/it]\u001b[A\n",
      " 55%|█████▍    | 105/192 [09:57<08:18,  5.73s/it]\u001b[A\n",
      " 55%|█████▌    | 106/192 [10:03<08:13,  5.74s/it]\u001b[A\n",
      " 56%|█████▌    | 107/192 [10:08<08:07,  5.74s/it]\u001b[A\n",
      " 56%|█████▋    | 108/192 [10:14<08:02,  5.75s/it]\u001b[A\n",
      " 57%|█████▋    | 109/192 [10:20<08:05,  5.85s/it]\u001b[A\n",
      " 57%|█████▋    | 110/192 [10:26<07:56,  5.82s/it]\u001b[A\n",
      " 58%|█████▊    | 111/192 [10:32<07:50,  5.81s/it]\u001b[A\n",
      " 58%|█████▊    | 112/192 [10:37<07:44,  5.80s/it]\u001b[A\n",
      " 59%|█████▉    | 113/192 [10:43<07:38,  5.81s/it]\u001b[A\n",
      " 59%|█████▉    | 114/192 [10:49<07:31,  5.79s/it]\u001b[A\n",
      " 60%|█████▉    | 115/192 [10:55<07:24,  5.77s/it]\u001b[A\n",
      " 60%|██████    | 116/192 [11:00<07:16,  5.75s/it]\u001b[A\n",
      " 61%|██████    | 117/192 [11:06<07:10,  5.74s/it]\u001b[A\n",
      " 61%|██████▏   | 118/192 [11:12<07:03,  5.73s/it]\u001b[A\n",
      " 62%|██████▏   | 119/192 [11:18<06:58,  5.73s/it]\u001b[A\n",
      " 62%|██████▎   | 120/192 [11:23<06:53,  5.74s/it]\u001b[A\n",
      " 63%|██████▎   | 121/192 [11:29<06:48,  5.75s/it]\u001b[A\n",
      " 64%|██████▎   | 122/192 [11:35<06:42,  5.76s/it]\u001b[A\n",
      " 64%|██████▍   | 123/192 [11:41<06:37,  5.76s/it]\u001b[A\n",
      " 65%|██████▍   | 124/192 [11:46<06:31,  5.76s/it]\u001b[A\n",
      " 65%|██████▌   | 125/192 [11:52<06:26,  5.77s/it]\u001b[A\n",
      " 66%|██████▌   | 126/192 [11:58<06:21,  5.77s/it]\u001b[A\n",
      " 66%|██████▌   | 127/192 [12:04<06:14,  5.76s/it]\u001b[A\n",
      " 67%|██████▋   | 128/192 [12:10<06:09,  5.78s/it]\u001b[A\n",
      " 67%|██████▋   | 129/192 [12:16<06:07,  5.84s/it]\u001b[A\n",
      " 68%|██████▊   | 130/192 [12:21<06:00,  5.82s/it]\u001b[A\n",
      " 68%|██████▊   | 131/192 [12:27<05:59,  5.90s/it]\u001b[A\n",
      " 69%|██████▉   | 132/192 [12:33<05:53,  5.89s/it]\u001b[A\n",
      " 69%|██████▉   | 133/192 [12:39<05:47,  5.89s/it]\u001b[A\n",
      " 70%|██████▉   | 134/192 [12:45<05:39,  5.85s/it]\u001b[A\n",
      " 70%|███████   | 135/192 [12:51<05:32,  5.82s/it]\u001b[A\n",
      " 71%|███████   | 136/192 [12:57<05:25,  5.82s/it]\u001b[A\n",
      " 71%|███████▏  | 137/192 [13:02<05:20,  5.82s/it]\u001b[A\n",
      " 72%|███████▏  | 138/192 [13:08<05:13,  5.80s/it]\u001b[A\n",
      " 72%|███████▏  | 139/192 [13:14<05:07,  5.80s/it]\u001b[A\n",
      " 73%|███████▎  | 140/192 [13:20<05:01,  5.79s/it]\u001b[A\n",
      " 73%|███████▎  | 141/192 [13:25<04:55,  5.79s/it]\u001b[A\n",
      " 74%|███████▍  | 142/192 [13:31<04:49,  5.79s/it]\u001b[A\n",
      " 74%|███████▍  | 143/192 [13:37<04:44,  5.80s/it]\u001b[A\n",
      " 75%|███████▌  | 144/192 [13:43<04:38,  5.80s/it]\u001b[A\n",
      " 76%|███████▌  | 145/192 [13:49<04:32,  5.79s/it]\u001b[A\n",
      " 76%|███████▌  | 146/192 [13:54<04:26,  5.80s/it]\u001b[A\n",
      " 77%|███████▋  | 147/192 [14:00<04:21,  5.81s/it]\u001b[A\n",
      " 77%|███████▋  | 148/192 [14:06<04:17,  5.85s/it]\u001b[A\n",
      " 78%|███████▊  | 149/192 [14:12<04:10,  5.83s/it]\u001b[A\n",
      " 78%|███████▊  | 150/192 [14:18<04:04,  5.82s/it]\u001b[A\n",
      " 79%|███████▊  | 151/192 [14:24<04:01,  5.90s/it]\u001b[A\n",
      " 79%|███████▉  | 152/192 [14:30<03:59,  5.99s/it]\u001b[A\n",
      " 80%|███████▉  | 153/192 [14:36<03:51,  5.94s/it]\u001b[A\n",
      " 80%|████████  | 154/192 [14:42<03:45,  5.94s/it]\u001b[A\n",
      " 81%|████████  | 155/192 [14:48<03:39,  5.93s/it]\u001b[A\n"
     ]
    },
    {
     "name": "stderr",
     "output_type": "stream",
     "text": [
      " 81%|████████▏ | 156/192 [14:54<03:32,  5.90s/it]\u001b[A\n",
      " 82%|████████▏ | 157/192 [14:59<03:26,  5.89s/it]\u001b[A\n",
      " 82%|████████▏ | 158/192 [15:05<03:20,  5.89s/it]\u001b[A\n",
      " 83%|████████▎ | 159/192 [15:11<03:13,  5.87s/it]\u001b[A\n",
      " 83%|████████▎ | 160/192 [15:17<03:07,  5.87s/it]\u001b[A\n",
      " 84%|████████▍ | 161/192 [15:23<03:01,  5.87s/it]\u001b[A\n",
      " 84%|████████▍ | 162/192 [15:29<02:55,  5.87s/it]\u001b[A\n",
      " 85%|████████▍ | 163/192 [15:35<02:49,  5.86s/it]\u001b[A\n",
      " 85%|████████▌ | 164/192 [15:40<02:43,  5.85s/it]\u001b[A\n",
      " 86%|████████▌ | 165/192 [15:46<02:38,  5.88s/it]\u001b[A\n",
      " 86%|████████▋ | 166/192 [15:52<02:32,  5.87s/it]\u001b[A\n",
      " 87%|████████▋ | 167/192 [15:58<02:26,  5.87s/it]\u001b[A\n",
      " 88%|████████▊ | 168/192 [16:04<02:21,  5.88s/it]\u001b[A\n",
      " 88%|████████▊ | 169/192 [16:10<02:15,  5.88s/it]\u001b[A\n",
      " 89%|████████▊ | 170/192 [16:16<02:09,  5.89s/it]\u001b[A\n",
      " 89%|████████▉ | 171/192 [16:22<02:04,  5.91s/it]\u001b[A\n",
      " 90%|████████▉ | 172/192 [16:28<01:57,  5.90s/it]\u001b[A\n",
      " 90%|█████████ | 173/192 [16:34<01:54,  6.02s/it]\u001b[A\n",
      " 91%|█████████ | 174/192 [16:40<01:47,  5.99s/it]\u001b[A\n",
      " 91%|█████████ | 175/192 [16:46<01:41,  5.96s/it]\u001b[A\n",
      " 92%|█████████▏| 176/192 [16:52<01:35,  5.95s/it]\u001b[A\n",
      " 92%|█████████▏| 177/192 [16:58<01:30,  6.01s/it]\u001b[A\n",
      " 93%|█████████▎| 178/192 [17:04<01:23,  5.99s/it]\u001b[A\n",
      " 93%|█████████▎| 179/192 [17:10<01:17,  5.99s/it]\u001b[A\n",
      " 94%|█████████▍| 180/192 [17:16<01:11,  5.98s/it]\u001b[A\n",
      " 94%|█████████▍| 181/192 [17:22<01:05,  5.95s/it]\u001b[A\n",
      " 95%|█████████▍| 182/192 [17:28<00:59,  5.94s/it]\u001b[A\n",
      " 95%|█████████▌| 183/192 [17:33<00:53,  5.94s/it]\u001b[A\n",
      " 96%|█████████▌| 184/192 [17:39<00:47,  5.93s/it]\u001b[A\n",
      " 96%|█████████▋| 185/192 [17:45<00:41,  5.92s/it]\u001b[A\n",
      " 97%|█████████▋| 186/192 [17:51<00:35,  5.93s/it]\u001b[A\n",
      " 97%|█████████▋| 187/192 [17:57<00:29,  5.94s/it]\u001b[A\n",
      " 98%|█████████▊| 188/192 [18:03<00:23,  5.94s/it]\u001b[A\n",
      " 98%|█████████▊| 189/192 [18:09<00:17,  5.93s/it]\u001b[A\n",
      " 99%|█████████▉| 190/192 [18:15<00:11,  5.92s/it]\u001b[A\n",
      " 99%|█████████▉| 191/192 [18:21<00:05,  5.92s/it]\u001b[A\n",
      "100%|██████████| 192/192 [18:27<00:00,  5.92s/it]"
     ]
    },
    {
     "name": "stdout",
     "output_type": "stream",
     "text": [
      "[MoviePy] Done.\n",
      "[MoviePy] >>>> Video ready: videos_out/cars_out.mp4 \n",
      "\n",
      "CPU times: user 1h 22min 33s, sys: 1min 45s, total: 1h 24min 19s\n",
      "Wall time: 18min 27s\n"
     ]
    },
    {
     "name": "stderr",
     "output_type": "stream",
     "text": [
      "\u001b[A\n",
      "\u001b[A"
     ]
    }
   ],
   "source": [
    "filename = 'videos_in/cars.mp4'\n",
    "new_loc = 'videos_out/cars_out.mp4'\n",
    "\n",
    "counter = 0\n",
    "\n",
    "white_output = new_loc\n",
    "clip1 = VideoFileClip(filename).subclip(60,68)\n",
    "white_clip = clip1.fl_image(process_image) #NOTE: this function expects color images!!s\n",
    "white_clip.write_videofile(white_output, audio=False)"
   ]
  },

  {
   "cell_type": "code",
   "execution_count": null,
   "metadata": {},
   "outputs": [],
   "source": []
  }
 ],
 "metadata": {
  "colab": {
   "version": "0.3.2"
  },
  "kernelspec": {
   "display_name": "Python 2",
   "language": "python",
   "name": "python2"
  },
  "language_info": {
   "codemirror_mode": {
    "name": "ipython",
    "version": 2
   },
   "file_extension": ".py",
   "mimetype": "text/x-python",
   "name": "python",
   "nbconvert_exporter": "python",
   "pygments_lexer": "ipython2",
   "version": "2.7.12"
  }
 },
 "nbformat": 4,
 "nbformat_minor": 2
}
  
